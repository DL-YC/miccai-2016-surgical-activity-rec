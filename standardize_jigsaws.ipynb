{
 "cells": [
  {
   "cell_type": "code",
   "execution_count": null,
   "metadata": {
    "collapsed": true
   },
   "outputs": [],
   "source": [
    "from __future__ import division, print_function\n",
    "\n",
    "import os\n",
    "import sys\n",
    "import shutil\n",
    "import collections\n",
    "import itertools\n",
    "from glob import glob\n",
    "\n",
    "%matplotlib inline\n",
    "import matplotlib.pyplot as plt\n",
    "\n",
    "import numpy as np\n",
    "import scipy\n",
    "import scipy.interpolate\n",
    "import cPickle"
   ]
  },
  {
   "cell_type": "code",
   "execution_count": null,
   "metadata": {
    "collapsed": false
   },
   "outputs": [],
   "source": [
    "DATASET_NAME = 'JIGSAWS'\n",
    "\n",
    "DATA_DIR = os.path.join(os.path.expanduser('~'), 'Data', 'JIGSAWS', 'Suturing')\n",
    "KINEMATICS_DIR = os.path.join(DATA_DIR, 'kinematics', 'AllGestures')\n",
    "LABELS_DIR = os.path.join(DATA_DIR, 'transcriptions')\n",
    "\n",
    "ORIG_CLASS_IDS = [1, 2, 3, 4, 5, 6, 8, 9, 10, 11]\n",
    "NEW_CLASS_IDS = range(len(ORIG_CLASS_IDS))\n",
    "CLASSES = ['G%d' % id for id in ORIG_CLASS_IDS]\n",
    "NUM_CLASSES = len(CLASSES)\n",
    "\n",
    "# Standard JIGSAWS experimental setup. In particular, it's the only\n",
    "# recognition setup that exists, corresponding to\n",
    "# JIGSAWS/Experimental/Suturing/unBalanced/GestureRecognition/UserOut\n",
    "# (User H's 2nd trial is left out because no video was available for labeling.)\n",
    "\n",
    "USER_TO_TRIALS = {\n",
    "    'B': [1, 2, 3, 4, 5],\n",
    "    'C': [1, 2, 3, 4, 5],\n",
    "    'D': [1, 2, 3, 4, 5],\n",
    "    'E': [1, 2, 3, 4, 5],\n",
    "    'F': [1, 2, 3, 4, 5],\n",
    "    'G': [1, 2, 3, 4, 5],\n",
    "    'H': [1,    3, 4, 5],\n",
    "    'I': [1, 2, 3, 4, 5]\n",
    "}\n",
    "\n",
    "ALL_USERS = sorted(USER_TO_TRIALS.keys())\n",
    "\n",
    "KINEMATICS_USECOLS = [c-1 for c in [39, 40, 41, 51, 52, 53, 57, 58, 59, 60, 70, 71, 72, 76]]\n",
    "KINEMATICS_COL_NAMES = ['pos_x', 'pos_y', 'pos_z', 'vel_x', 'vel_y', 'vel_z', 'gripper']*2\n",
    "\n",
    "LABELS_USECOLS = [0, 1, 2]\n",
    "LABELS_COL_NAMES = ['start_frame', 'end_frame', 'string_label']\n",
    "LABELS_CONVERTERS = {2: lambda string_label: int(string_label.replace('G', ''))}\n",
    "\n",
    "STANDARDIZED_COL_NAMES = KINEMATICS_COL_NAMES + ['label']\n",
    "STANDARDIZED_DIR = os.path.join(DATA_DIR)\n",
    "STANDARDIZED_PATH = os.path.join(DATA_DIR, 'standardized_data.pkl')"
   ]
  },
  {
   "cell_type": "code",
   "execution_count": null,
   "metadata": {
    "collapsed": false
   },
   "outputs": [],
   "source": [
    "print(CLASSES)"
   ]
  },
  {
   "cell_type": "code",
   "execution_count": null,
   "metadata": {
    "collapsed": true
   },
   "outputs": [],
   "source": [
    "def get_trial_name(user, trial):\n",
    "    return 'Suturing_%s%03d' % (user, trial)"
   ]
  },
  {
   "cell_type": "code",
   "execution_count": null,
   "metadata": {
    "collapsed": false
   },
   "outputs": [],
   "source": [
    "USER_TO_TRIAL_NAMES = {}\n",
    "for user, trials in USER_TO_TRIALS.items():\n",
    "    USER_TO_TRIAL_NAMES[user] = [get_trial_name(user, trial) for trial in trials]"
   ]
  },
  {
   "cell_type": "code",
   "execution_count": null,
   "metadata": {
    "collapsed": false
   },
   "outputs": [],
   "source": [
    "for user in ALL_USERS:\n",
    "    print(user, '   ', USER_TO_TRIAL_NAMES[user])"
   ]
  },
  {
   "cell_type": "code",
   "execution_count": null,
   "metadata": {
    "collapsed": false
   },
   "outputs": [],
   "source": [
    "ALL_TRIAL_NAMES = list(itertools.chain(*sorted(USER_TO_TRIAL_NAMES.values())))\n",
    "print(ALL_TRIAL_NAMES)"
   ]
  },
  {
   "cell_type": "code",
   "execution_count": null,
   "metadata": {
    "collapsed": true
   },
   "outputs": [],
   "source": [
    "def load_kinematics(trial_name):\n",
    "    path = os.path.join(KINEMATICS_DIR, trial_name + \".txt\")\n",
    "    data = np.loadtxt(path, dtype=np.float, usecols=KINEMATICS_USECOLS)\n",
    "    return data"
   ]
  },
  {
   "cell_type": "code",
   "execution_count": null,
   "metadata": {
    "collapsed": false
   },
   "outputs": [],
   "source": [
    "def load_kinematics_and_labels(trial_name):\n",
    "    \n",
    "    kinematics_data = load_kinematics(trial_name)\n",
    "    \n",
    "    labels_path = os.path.join(LABELS_DIR, trial_name + '.txt')\n",
    "    raw_labels_data = np.genfromtxt(labels_path, dtype=np.int32, converters=LABELS_CONVERTERS,\n",
    "                                    usecols=LABELS_USECOLS)\n",
    "    frames = np.arange(1, kinematics_data.shape[0]+1, dtype=np.int32)\n",
    "    labels = np.zeros(frames.shape, dtype=np.int32)\n",
    "    for start, end, label in raw_labels_data:\n",
    "        mask = (frames >= start) & (frames <= end)\n",
    "        labels[mask] = label\n",
    "    labels_data = labels.reshape(-1, 1)\n",
    "    \n",
    "    data = np.concatenate([kinematics_data, labels_data], axis=1)\n",
    "    labeled_data_only_mask = labels_data.flatten() != 0\n",
    "    \n",
    "    return data[labeled_data_only_mask, :]"
   ]
  },
  {
   "cell_type": "code",
   "execution_count": null,
   "metadata": {
    "collapsed": true
   },
   "outputs": [],
   "source": [
    "def load_kinematics_and_new_labels(trial_name):\n",
    "    data = load_kinematics_and_labels(trial_name)\n",
    "    for orig, new in zip(ORIG_CLASS_IDS, NEW_CLASS_IDS):\n",
    "        mask = data[:, -1] == orig\n",
    "        data[mask, -1] = new\n",
    "    return data"
   ]
  },
  {
   "cell_type": "code",
   "execution_count": null,
   "metadata": {
    "collapsed": true
   },
   "outputs": [],
   "source": [
    "def downsample(data, factor=6):\n",
    "    return data[::factor, :]"
   ]
  },
  {
   "cell_type": "code",
   "execution_count": null,
   "metadata": {
    "collapsed": false
   },
   "outputs": [],
   "source": [
    "# Original data is at 30 Hz.\n",
    "\n",
    "all_data = {trial_name: downsample(load_kinematics_and_new_labels(trial_name), factor=6)\n",
    "            for trial_name in ALL_TRIAL_NAMES}"
   ]
  },
  {
   "cell_type": "code",
   "execution_count": null,
   "metadata": {
    "collapsed": false
   },
   "outputs": [],
   "source": [
    "all_data_concat = np.concatenate(all_data.values(), axis=0)\n",
    "unique_labels = np.unique(all_data_concat[:, 14])\n",
    "assert unique_labels.tolist() == range(len(CLASSES))"
   ]
  },
  {
   "cell_type": "code",
   "execution_count": null,
   "metadata": {
    "collapsed": false
   },
   "outputs": [],
   "source": [
    "print('Data shapes for all trials:')\n",
    "\n",
    "for trial_name, data in sorted(all_data.items()):\n",
    "    print('%s' % trial_name, data.shape)"
   ]
  },
  {
   "cell_type": "code",
   "execution_count": null,
   "metadata": {
    "collapsed": false
   },
   "outputs": [],
   "source": [
    "example = all_data.values()[0]\n",
    "fig, ax = plt.subplots(nrows=4, ncols=1, sharex=True, figsize=(10, 7))\n",
    "\n",
    "for (i, title) in zip(range(3), ['x', 'y', 'z']):\n",
    "    plt.sca(ax[i])\n",
    "    plt.plot(example[:, i])\n",
    "    plt.title(title)\n",
    "    ax[i].set_yticklabels([])\n",
    "    \n",
    "    \n",
    "plt.sca(ax[3])\n",
    "x = range(example.shape[0])\n",
    "y = np.ones(example.shape[0])\n",
    "c = example[:, 14]\n",
    "plt.scatter(x, y, c=c, lw=0, vmin=0, vmax=NUM_CLASSES)\n",
    "plt.gca().set_yticklabels([])\n",
    "plt.axis('tight')"
   ]
  },
  {
   "cell_type": "code",
   "execution_count": null,
   "metadata": {
    "collapsed": false
   },
   "outputs": [],
   "source": [
    "fig, ax_list = plt.subplots(nrows=len(all_data), ncols=1, sharex=True, figsize=(50, 75))\n",
    "for i, (trial_name, data) in enumerate(sorted(all_data.items())):\n",
    "    x = range(data.shape[0])\n",
    "    y = np.ones(data.shape[0])\n",
    "    c = data[:, 14]\n",
    "    plt.sca(ax_list[i])\n",
    "    plt.scatter(x, y, c=c, lw=0, vmin=0, vmax=NUM_CLASSES)\n",
    "    plt.title(trial_name)"
   ]
  },
  {
   "cell_type": "code",
   "execution_count": null,
   "metadata": {
    "collapsed": true
   },
   "outputs": [],
   "source": [
    "def export_standardized(export_dict):\n",
    "    if not os.path.exists(STANDARDIZED_DIR):\n",
    "        os.makedirs(STANDARDIZED_DIR)\n",
    "    cPickle.dump(export_dict, open(STANDARDIZED_PATH, 'w'))"
   ]
  },
  {
   "cell_type": "code",
   "execution_count": null,
   "metadata": {
    "collapsed": false
   },
   "outputs": [],
   "source": [
    "export_dict = dict(dataset_name=DATASET_NAME, classes=CLASSES, num_classes=NUM_CLASSES,\n",
    "                   col_names=STANDARDIZED_COL_NAMES,\n",
    "                   all_users=ALL_USERS, user_to_trial_names=USER_TO_TRIAL_NAMES, \n",
    "                   all_trial_names=ALL_TRIAL_NAMES, all_data=all_data)\n",
    "export_standardized(export_dict)"
   ]
  },
  {
   "cell_type": "code",
   "execution_count": null,
   "metadata": {
    "collapsed": false
   },
   "outputs": [],
   "source": [
    "%reset -f\n",
    "\n",
    "import os\n",
    "import cPickle\n",
    "\n",
    "DATA_DIR = os.path.join(os.path.expanduser('~'), 'Data', 'JIGSAWS', 'Suturing')\n",
    "STANDARDIZED_PATH = os.path.join(DATA_DIR, 'standardized_data.pkl')\n",
    "\n",
    "standardized_dict = cPickle.load(open(STANDARDIZED_PATH, 'r'))\n",
    "print(standardized_dict.keys())\n",
    "\n",
    "locals().update(standardized_dict)"
   ]
  },
  {
   "cell_type": "code",
   "execution_count": null,
   "metadata": {
    "collapsed": false
   },
   "outputs": [],
   "source": [
    "print(classes)"
   ]
  },
  {
   "cell_type": "code",
   "execution_count": null,
   "metadata": {
    "collapsed": false
   },
   "outputs": [],
   "source": [
    "print(col_names)"
   ]
  },
  {
   "cell_type": "code",
   "execution_count": null,
   "metadata": {
    "collapsed": false
   },
   "outputs": [],
   "source": [
    "print(all_users)"
   ]
  },
  {
   "cell_type": "code",
   "execution_count": null,
   "metadata": {
    "collapsed": false
   },
   "outputs": [],
   "source": [
    "print(all_trial_names)"
   ]
  },
  {
   "cell_type": "code",
   "execution_count": null,
   "metadata": {
    "collapsed": false
   },
   "outputs": [],
   "source": [
    "print(user_to_trial_names['B'])"
   ]
  },
  {
   "cell_type": "code",
   "execution_count": null,
   "metadata": {
    "collapsed": false
   },
   "outputs": [],
   "source": [
    "print(all_data['Suturing_B001'].dtype)"
   ]
  },
  {
   "cell_type": "code",
   "execution_count": null,
   "metadata": {
    "collapsed": false
   },
   "outputs": [],
   "source": [
    "print(all_data['Suturing_B001'].shape)"
   ]
  }
 ],
 "metadata": {
  "kernelspec": {
   "display_name": "Python 2",
   "language": "python",
   "name": "python2"
  },
  "language_info": {
   "codemirror_mode": {
    "name": "ipython",
    "version": 2
   },
   "file_extension": ".py",
   "mimetype": "text/x-python",
   "name": "python",
   "nbconvert_exporter": "python",
   "pygments_lexer": "ipython2",
   "version": "2.7.10"
  }
 },
 "nbformat": 4,
 "nbformat_minor": 0
}
